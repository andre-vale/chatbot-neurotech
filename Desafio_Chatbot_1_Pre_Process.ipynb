{
  "nbformat": 4,
  "nbformat_minor": 0,
  "metadata": {
    "colab": {
      "provenance": []
    },
    "kernelspec": {
      "name": "python3",
      "display_name": "Python 3"
    },
    "language_info": {
      "name": "python"
    }
  },
  "cells": [
    {
      "cell_type": "markdown",
      "source": [
        "### Importando as bibliotecas"
      ],
      "metadata": {
        "id": "P6KsFpeNwgSm"
      }
    },
    {
      "cell_type": "code",
      "execution_count": 2,
      "metadata": {
        "id": "bheMog3-wEgs",
        "collapsed": true
      },
      "outputs": [],
      "source": [
        "import pandas as pd\n",
        "import numpy as np\n",
        "from sklearn.impute import SimpleImputer\n",
        "from sklearn.linear_model import LinearRegression"
      ]
    },
    {
      "cell_type": "code",
      "source": [
        "from google.colab import drive\n",
        "drive.mount('/content/drive')"
      ],
      "metadata": {
        "colab": {
          "base_uri": "https://localhost:8080/"
        },
        "id": "CFPCzPcDjSJX",
        "outputId": "e58a451f-089c-4ed9-d078-20fd0680abe2"
      },
      "execution_count": 3,
      "outputs": [
        {
          "output_type": "stream",
          "name": "stdout",
          "text": [
            "Mounted at /content/drive\n"
          ]
        }
      ]
    },
    {
      "cell_type": "markdown",
      "source": [
        "# **Importando o** **DataSet**"
      ],
      "metadata": {
        "id": "113-E1ORAZD-"
      }
    },
    {
      "cell_type": "code",
      "source": [
        "# Carregue o arquivo .csv\n",
        "base = pd.read_csv(\"/content/drive/MyDrive/Andre/ADA/train.csv\", sep = \",\")\n",
        "base.head()"
      ],
      "metadata": {
        "id": "QfCMKV_jAlvs",
        "colab": {
          "base_uri": "https://localhost:8080/",
          "height": 464
        },
        "outputId": "0318a983-a063-42e3-8886-3293f0db0b99"
      },
      "execution_count": 4,
      "outputs": [
        {
          "output_type": "execute_result",
          "data": {
            "text/plain": [
              "                    REF_DATE  T;ARGET VAR2   IDADE VAR4 VAR5       VAR6  \\\n",
              "0  01/06/2017;00:00:00+00:00        0    M  34.137  NaN   RO  -8.808779   \n",
              "1  18/08/2017;00:00:00+00:00        0    M  40.447  NaN   PB  -7.146537   \n",
              "2  30/06/2017;00:00:00+00:00        0    F  33.515  NaN   RS -27.900178   \n",
              "3  05/08/2017;00:00:00+00:00        1    F  25.797  NaN   BA -12.948874   \n",
              "4  29/07/2017;00:00:00+00:00        0    F  54.074  NaN   RS -30.051810   \n",
              "\n",
              "        VAR7 VAR8 VAR9  ...              VAR141  VAR142  VAR143  VAR144  \\\n",
              "0 -63.878470    D    E  ...         2680.289259       D     NaN     NaN   \n",
              "1 -34.926080    E    E  ...  1777.7254690000002       E     NaN     NaN   \n",
              "2 -53.314035  NaN    E  ...  1695.4949789999996       E     NaN     NaN   \n",
              "3 -38.451863    E    E  ...         1399.037809       E     NaN     NaN   \n",
              "4 -51.213277    B    E  ...   7868.793295999999       C     NaN     NaN   \n",
              "\n",
              "   VAR145  VAR146  VAR147                                             VAR148  \\\n",
              "0     NaN     NaN     102  EMAIL INEXISTENTE#@#NOME INEXISTENTE#@#CEP INE...   \n",
              "1     NaN     NaN     102  EMAIL INEXISTENTE#@#NOME INEXISTENTE#@#CEP INE...   \n",
              "2     NaN     NaN     102  EMAIL INEXISTENTE#@#NOME INEXISTENTE#@#CEP INE...   \n",
              "3     NaN     NaN     102  EMAIL INEXISTENTE#@#NOME INEXISTENTE#@#CEP INE...   \n",
              "4     NaN     NaN     102                                  EMAIL INEXISTENTE   \n",
              "\n",
              "   VAR149      ID;;;;;  \n",
              "0   2.6.1  181755;;;;;  \n",
              "1   2.6.1  287633;;;;;  \n",
              "2  2.6;.1     88015;;;  \n",
              "3   2.6.1  122576;;;;;  \n",
              "4   2.6.1    1272;;;;;  \n",
              "\n",
              "[5 rows x 151 columns]"
            ],
            "text/html": [
              "\n",
              "  <div id=\"df-ff789d1e-86fa-4bb9-bcfb-f40ed8cd13cb\" class=\"colab-df-container\">\n",
              "    <div>\n",
              "<style scoped>\n",
              "    .dataframe tbody tr th:only-of-type {\n",
              "        vertical-align: middle;\n",
              "    }\n",
              "\n",
              "    .dataframe tbody tr th {\n",
              "        vertical-align: top;\n",
              "    }\n",
              "\n",
              "    .dataframe thead th {\n",
              "        text-align: right;\n",
              "    }\n",
              "</style>\n",
              "<table border=\"1\" class=\"dataframe\">\n",
              "  <thead>\n",
              "    <tr style=\"text-align: right;\">\n",
              "      <th></th>\n",
              "      <th>REF_DATE</th>\n",
              "      <th>T;ARGET</th>\n",
              "      <th>VAR2</th>\n",
              "      <th>IDADE</th>\n",
              "      <th>VAR4</th>\n",
              "      <th>VAR5</th>\n",
              "      <th>VAR6</th>\n",
              "      <th>VAR7</th>\n",
              "      <th>VAR8</th>\n",
              "      <th>VAR9</th>\n",
              "      <th>...</th>\n",
              "      <th>VAR141</th>\n",
              "      <th>VAR142</th>\n",
              "      <th>VAR143</th>\n",
              "      <th>VAR144</th>\n",
              "      <th>VAR145</th>\n",
              "      <th>VAR146</th>\n",
              "      <th>VAR147</th>\n",
              "      <th>VAR148</th>\n",
              "      <th>VAR149</th>\n",
              "      <th>ID;;;;;</th>\n",
              "    </tr>\n",
              "  </thead>\n",
              "  <tbody>\n",
              "    <tr>\n",
              "      <th>0</th>\n",
              "      <td>01/06/2017;00:00:00+00:00</td>\n",
              "      <td>0</td>\n",
              "      <td>M</td>\n",
              "      <td>34.137</td>\n",
              "      <td>NaN</td>\n",
              "      <td>RO</td>\n",
              "      <td>-8.808779</td>\n",
              "      <td>-63.878470</td>\n",
              "      <td>D</td>\n",
              "      <td>E</td>\n",
              "      <td>...</td>\n",
              "      <td>2680.289259</td>\n",
              "      <td>D</td>\n",
              "      <td>NaN</td>\n",
              "      <td>NaN</td>\n",
              "      <td>NaN</td>\n",
              "      <td>NaN</td>\n",
              "      <td>102</td>\n",
              "      <td>EMAIL INEXISTENTE#@#NOME INEXISTENTE#@#CEP INE...</td>\n",
              "      <td>2.6.1</td>\n",
              "      <td>181755;;;;;</td>\n",
              "    </tr>\n",
              "    <tr>\n",
              "      <th>1</th>\n",
              "      <td>18/08/2017;00:00:00+00:00</td>\n",
              "      <td>0</td>\n",
              "      <td>M</td>\n",
              "      <td>40.447</td>\n",
              "      <td>NaN</td>\n",
              "      <td>PB</td>\n",
              "      <td>-7.146537</td>\n",
              "      <td>-34.926080</td>\n",
              "      <td>E</td>\n",
              "      <td>E</td>\n",
              "      <td>...</td>\n",
              "      <td>1777.7254690000002</td>\n",
              "      <td>E</td>\n",
              "      <td>NaN</td>\n",
              "      <td>NaN</td>\n",
              "      <td>NaN</td>\n",
              "      <td>NaN</td>\n",
              "      <td>102</td>\n",
              "      <td>EMAIL INEXISTENTE#@#NOME INEXISTENTE#@#CEP INE...</td>\n",
              "      <td>2.6.1</td>\n",
              "      <td>287633;;;;;</td>\n",
              "    </tr>\n",
              "    <tr>\n",
              "      <th>2</th>\n",
              "      <td>30/06/2017;00:00:00+00:00</td>\n",
              "      <td>0</td>\n",
              "      <td>F</td>\n",
              "      <td>33.515</td>\n",
              "      <td>NaN</td>\n",
              "      <td>RS</td>\n",
              "      <td>-27.900178</td>\n",
              "      <td>-53.314035</td>\n",
              "      <td>NaN</td>\n",
              "      <td>E</td>\n",
              "      <td>...</td>\n",
              "      <td>1695.4949789999996</td>\n",
              "      <td>E</td>\n",
              "      <td>NaN</td>\n",
              "      <td>NaN</td>\n",
              "      <td>NaN</td>\n",
              "      <td>NaN</td>\n",
              "      <td>102</td>\n",
              "      <td>EMAIL INEXISTENTE#@#NOME INEXISTENTE#@#CEP INE...</td>\n",
              "      <td>2.6;.1</td>\n",
              "      <td>88015;;;</td>\n",
              "    </tr>\n",
              "    <tr>\n",
              "      <th>3</th>\n",
              "      <td>05/08/2017;00:00:00+00:00</td>\n",
              "      <td>1</td>\n",
              "      <td>F</td>\n",
              "      <td>25.797</td>\n",
              "      <td>NaN</td>\n",
              "      <td>BA</td>\n",
              "      <td>-12.948874</td>\n",
              "      <td>-38.451863</td>\n",
              "      <td>E</td>\n",
              "      <td>E</td>\n",
              "      <td>...</td>\n",
              "      <td>1399.037809</td>\n",
              "      <td>E</td>\n",
              "      <td>NaN</td>\n",
              "      <td>NaN</td>\n",
              "      <td>NaN</td>\n",
              "      <td>NaN</td>\n",
              "      <td>102</td>\n",
              "      <td>EMAIL INEXISTENTE#@#NOME INEXISTENTE#@#CEP INE...</td>\n",
              "      <td>2.6.1</td>\n",
              "      <td>122576;;;;;</td>\n",
              "    </tr>\n",
              "    <tr>\n",
              "      <th>4</th>\n",
              "      <td>29/07/2017;00:00:00+00:00</td>\n",
              "      <td>0</td>\n",
              "      <td>F</td>\n",
              "      <td>54.074</td>\n",
              "      <td>NaN</td>\n",
              "      <td>RS</td>\n",
              "      <td>-30.051810</td>\n",
              "      <td>-51.213277</td>\n",
              "      <td>B</td>\n",
              "      <td>E</td>\n",
              "      <td>...</td>\n",
              "      <td>7868.793295999999</td>\n",
              "      <td>C</td>\n",
              "      <td>NaN</td>\n",
              "      <td>NaN</td>\n",
              "      <td>NaN</td>\n",
              "      <td>NaN</td>\n",
              "      <td>102</td>\n",
              "      <td>EMAIL INEXISTENTE</td>\n",
              "      <td>2.6.1</td>\n",
              "      <td>1272;;;;;</td>\n",
              "    </tr>\n",
              "  </tbody>\n",
              "</table>\n",
              "<p>5 rows × 151 columns</p>\n",
              "</div>\n",
              "    <div class=\"colab-df-buttons\">\n",
              "\n",
              "  <div class=\"colab-df-container\">\n",
              "    <button class=\"colab-df-convert\" onclick=\"convertToInteractive('df-ff789d1e-86fa-4bb9-bcfb-f40ed8cd13cb')\"\n",
              "            title=\"Convert this dataframe to an interactive table.\"\n",
              "            style=\"display:none;\">\n",
              "\n",
              "  <svg xmlns=\"http://www.w3.org/2000/svg\" height=\"24px\" viewBox=\"0 -960 960 960\">\n",
              "    <path d=\"M120-120v-720h720v720H120Zm60-500h600v-160H180v160Zm220 220h160v-160H400v160Zm0 220h160v-160H400v160ZM180-400h160v-160H180v160Zm440 0h160v-160H620v160ZM180-180h160v-160H180v160Zm440 0h160v-160H620v160Z\"/>\n",
              "  </svg>\n",
              "    </button>\n",
              "\n",
              "  <style>\n",
              "    .colab-df-container {\n",
              "      display:flex;\n",
              "      gap: 12px;\n",
              "    }\n",
              "\n",
              "    .colab-df-convert {\n",
              "      background-color: #E8F0FE;\n",
              "      border: none;\n",
              "      border-radius: 50%;\n",
              "      cursor: pointer;\n",
              "      display: none;\n",
              "      fill: #1967D2;\n",
              "      height: 32px;\n",
              "      padding: 0 0 0 0;\n",
              "      width: 32px;\n",
              "    }\n",
              "\n",
              "    .colab-df-convert:hover {\n",
              "      background-color: #E2EBFA;\n",
              "      box-shadow: 0px 1px 2px rgba(60, 64, 67, 0.3), 0px 1px 3px 1px rgba(60, 64, 67, 0.15);\n",
              "      fill: #174EA6;\n",
              "    }\n",
              "\n",
              "    .colab-df-buttons div {\n",
              "      margin-bottom: 4px;\n",
              "    }\n",
              "\n",
              "    [theme=dark] .colab-df-convert {\n",
              "      background-color: #3B4455;\n",
              "      fill: #D2E3FC;\n",
              "    }\n",
              "\n",
              "    [theme=dark] .colab-df-convert:hover {\n",
              "      background-color: #434B5C;\n",
              "      box-shadow: 0px 1px 3px 1px rgba(0, 0, 0, 0.15);\n",
              "      filter: drop-shadow(0px 1px 2px rgba(0, 0, 0, 0.3));\n",
              "      fill: #FFFFFF;\n",
              "    }\n",
              "  </style>\n",
              "\n",
              "    <script>\n",
              "      const buttonEl =\n",
              "        document.querySelector('#df-ff789d1e-86fa-4bb9-bcfb-f40ed8cd13cb button.colab-df-convert');\n",
              "      buttonEl.style.display =\n",
              "        google.colab.kernel.accessAllowed ? 'block' : 'none';\n",
              "\n",
              "      async function convertToInteractive(key) {\n",
              "        const element = document.querySelector('#df-ff789d1e-86fa-4bb9-bcfb-f40ed8cd13cb');\n",
              "        const dataTable =\n",
              "          await google.colab.kernel.invokeFunction('convertToInteractive',\n",
              "                                                    [key], {});\n",
              "        if (!dataTable) return;\n",
              "\n",
              "        const docLinkHtml = 'Like what you see? Visit the ' +\n",
              "          '<a target=\"_blank\" href=https://colab.research.google.com/notebooks/data_table.ipynb>data table notebook</a>'\n",
              "          + ' to learn more about interactive tables.';\n",
              "        element.innerHTML = '';\n",
              "        dataTable['output_type'] = 'display_data';\n",
              "        await google.colab.output.renderOutput(dataTable, element);\n",
              "        const docLink = document.createElement('div');\n",
              "        docLink.innerHTML = docLinkHtml;\n",
              "        element.appendChild(docLink);\n",
              "      }\n",
              "    </script>\n",
              "  </div>\n",
              "\n",
              "\n",
              "<div id=\"df-65890733-d453-49cd-a42e-6b9022a6e874\">\n",
              "  <button class=\"colab-df-quickchart\" onclick=\"quickchart('df-65890733-d453-49cd-a42e-6b9022a6e874')\"\n",
              "            title=\"Suggest charts\"\n",
              "            style=\"display:none;\">\n",
              "\n",
              "<svg xmlns=\"http://www.w3.org/2000/svg\" height=\"24px\"viewBox=\"0 0 24 24\"\n",
              "     width=\"24px\">\n",
              "    <g>\n",
              "        <path d=\"M19 3H5c-1.1 0-2 .9-2 2v14c0 1.1.9 2 2 2h14c1.1 0 2-.9 2-2V5c0-1.1-.9-2-2-2zM9 17H7v-7h2v7zm4 0h-2V7h2v10zm4 0h-2v-4h2v4z\"/>\n",
              "    </g>\n",
              "</svg>\n",
              "  </button>\n",
              "\n",
              "<style>\n",
              "  .colab-df-quickchart {\n",
              "      --bg-color: #E8F0FE;\n",
              "      --fill-color: #1967D2;\n",
              "      --hover-bg-color: #E2EBFA;\n",
              "      --hover-fill-color: #174EA6;\n",
              "      --disabled-fill-color: #AAA;\n",
              "      --disabled-bg-color: #DDD;\n",
              "  }\n",
              "\n",
              "  [theme=dark] .colab-df-quickchart {\n",
              "      --bg-color: #3B4455;\n",
              "      --fill-color: #D2E3FC;\n",
              "      --hover-bg-color: #434B5C;\n",
              "      --hover-fill-color: #FFFFFF;\n",
              "      --disabled-bg-color: #3B4455;\n",
              "      --disabled-fill-color: #666;\n",
              "  }\n",
              "\n",
              "  .colab-df-quickchart {\n",
              "    background-color: var(--bg-color);\n",
              "    border: none;\n",
              "    border-radius: 50%;\n",
              "    cursor: pointer;\n",
              "    display: none;\n",
              "    fill: var(--fill-color);\n",
              "    height: 32px;\n",
              "    padding: 0;\n",
              "    width: 32px;\n",
              "  }\n",
              "\n",
              "  .colab-df-quickchart:hover {\n",
              "    background-color: var(--hover-bg-color);\n",
              "    box-shadow: 0 1px 2px rgba(60, 64, 67, 0.3), 0 1px 3px 1px rgba(60, 64, 67, 0.15);\n",
              "    fill: var(--button-hover-fill-color);\n",
              "  }\n",
              "\n",
              "  .colab-df-quickchart-complete:disabled,\n",
              "  .colab-df-quickchart-complete:disabled:hover {\n",
              "    background-color: var(--disabled-bg-color);\n",
              "    fill: var(--disabled-fill-color);\n",
              "    box-shadow: none;\n",
              "  }\n",
              "\n",
              "  .colab-df-spinner {\n",
              "    border: 2px solid var(--fill-color);\n",
              "    border-color: transparent;\n",
              "    border-bottom-color: var(--fill-color);\n",
              "    animation:\n",
              "      spin 1s steps(1) infinite;\n",
              "  }\n",
              "\n",
              "  @keyframes spin {\n",
              "    0% {\n",
              "      border-color: transparent;\n",
              "      border-bottom-color: var(--fill-color);\n",
              "      border-left-color: var(--fill-color);\n",
              "    }\n",
              "    20% {\n",
              "      border-color: transparent;\n",
              "      border-left-color: var(--fill-color);\n",
              "      border-top-color: var(--fill-color);\n",
              "    }\n",
              "    30% {\n",
              "      border-color: transparent;\n",
              "      border-left-color: var(--fill-color);\n",
              "      border-top-color: var(--fill-color);\n",
              "      border-right-color: var(--fill-color);\n",
              "    }\n",
              "    40% {\n",
              "      border-color: transparent;\n",
              "      border-right-color: var(--fill-color);\n",
              "      border-top-color: var(--fill-color);\n",
              "    }\n",
              "    60% {\n",
              "      border-color: transparent;\n",
              "      border-right-color: var(--fill-color);\n",
              "    }\n",
              "    80% {\n",
              "      border-color: transparent;\n",
              "      border-right-color: var(--fill-color);\n",
              "      border-bottom-color: var(--fill-color);\n",
              "    }\n",
              "    90% {\n",
              "      border-color: transparent;\n",
              "      border-bottom-color: var(--fill-color);\n",
              "    }\n",
              "  }\n",
              "</style>\n",
              "\n",
              "  <script>\n",
              "    async function quickchart(key) {\n",
              "      const quickchartButtonEl =\n",
              "        document.querySelector('#' + key + ' button');\n",
              "      quickchartButtonEl.disabled = true;  // To prevent multiple clicks.\n",
              "      quickchartButtonEl.classList.add('colab-df-spinner');\n",
              "      try {\n",
              "        const charts = await google.colab.kernel.invokeFunction(\n",
              "            'suggestCharts', [key], {});\n",
              "      } catch (error) {\n",
              "        console.error('Error during call to suggestCharts:', error);\n",
              "      }\n",
              "      quickchartButtonEl.classList.remove('colab-df-spinner');\n",
              "      quickchartButtonEl.classList.add('colab-df-quickchart-complete');\n",
              "    }\n",
              "    (() => {\n",
              "      let quickchartButtonEl =\n",
              "        document.querySelector('#df-65890733-d453-49cd-a42e-6b9022a6e874 button');\n",
              "      quickchartButtonEl.style.display =\n",
              "        google.colab.kernel.accessAllowed ? 'block' : 'none';\n",
              "    })();\n",
              "  </script>\n",
              "</div>\n",
              "\n",
              "    </div>\n",
              "  </div>\n"
            ],
            "application/vnd.google.colaboratory.intrinsic+json": {
              "type": "dataframe",
              "variable_name": "base"
            }
          },
          "metadata": {},
          "execution_count": 4
        }
      ]
    },
    {
      "cell_type": "markdown",
      "source": [
        "# **Selecionando as colunas** **importantes**"
      ],
      "metadata": {
        "id": "vXZDtEFAxNLI"
      }
    },
    {
      "cell_type": "code",
      "source": [
        "base = base.rename(columns={'T;ARGET': 'TARGET'})\n",
        "colunas_selecionadas = ['REF_DATE', 'TARGET', 'VAR2', 'IDADE', 'VAR4', 'VAR5', 'VAR8']\n",
        "base = base[colunas_selecionadas]\n",
        "#base.head()\n",
        "#base.info()\n",
        "#base.describe()"
      ],
      "metadata": {
        "id": "ZkWC0-b-6vtZ",
        "collapsed": true
      },
      "execution_count": 5,
      "outputs": []
    },
    {
      "cell_type": "code",
      "source": [
        "# Tratando os valores da variável VAR4(Flag de óbito):\n",
        "# Substituir os valores 'S' por 1 e os valores NaN por 0\n",
        "base['VAR4'] = base['VAR4'].replace('S', 1)  # Substituir 'S' por 1\n",
        "base['VAR4'] = base['VAR4'].fillna(0)\n",
        "base['VAR4'] = base['VAR4'].astype(int)\n"
      ],
      "metadata": {
        "colab": {
          "base_uri": "https://localhost:8080/"
        },
        "collapsed": true,
        "id": "28qccpHD6zzX",
        "outputId": "0974c48b-f83f-4ef9-eaf4-18e7ddeefee3"
      },
      "execution_count": 6,
      "outputs": [
        {
          "output_type": "stream",
          "name": "stderr",
          "text": [
            "<ipython-input-6-3b41a592952a>:3: FutureWarning: Downcasting behavior in `replace` is deprecated and will be removed in a future version. To retain the old behavior, explicitly call `result.infer_objects(copy=False)`. To opt-in to the future behavior, set `pd.set_option('future.no_silent_downcasting', True)`\n",
            "  base['VAR4'] = base['VAR4'].replace('S', 1)  # Substituir 'S' por 1\n"
          ]
        }
      ]
    },
    {
      "cell_type": "code",
      "source": [
        "# Tratando os valores da variável VAR8(Classe social):\n",
        "# Substituir os valores 'A' por 1, 'B' por 2, 'C' por 3, 'D' por 4 e 'E' por 5.\n",
        "base['VAR8'] = base['VAR8'].replace('A', 1)  # Substituir 'A' por 1\n",
        "base['VAR8'] = base['VAR8'].replace('B', 2)  # Substituir 'B' por 2\n",
        "base['VAR8'] = base['VAR8'].replace('C', 3)  # Substituir 'C' por 3\n",
        "base['VAR8'] = base['VAR8'].replace('D', 4)  # Substituir 'D' por 4\n",
        "base['VAR8'] = base['VAR8'].replace('E', 5)  # Substituir 'E' por 5\n",
        "base['VAR8'] = base['VAR8'].fillna(0)\n",
        "base['VAR8'] = base['VAR8'].astype(int)\n",
        "#base['VAR8']\n",
        "\n"
      ],
      "metadata": {
        "colab": {
          "base_uri": "https://localhost:8080/"
        },
        "id": "LnILJUNS4Ihe",
        "outputId": "76ee7fd6-0c43-4f6f-80ea-0bd26ca9f500"
      },
      "execution_count": 7,
      "outputs": [
        {
          "output_type": "stream",
          "name": "stderr",
          "text": [
            "<ipython-input-7-6d3f70e23904>:7: FutureWarning: Downcasting behavior in `replace` is deprecated and will be removed in a future version. To retain the old behavior, explicitly call `result.infer_objects(copy=False)`. To opt-in to the future behavior, set `pd.set_option('future.no_silent_downcasting', True)`\n",
            "  base['VAR8'] = base['VAR8'].replace('E', 5)  # Substituir 'E' por 5\n"
          ]
        }
      ]
    },
    {
      "cell_type": "code",
      "source": [
        "base['VAR8'] = base['VAR8'].replace(0, np.nan)\n",
        "base['VAR4'] = base['VAR4'].replace(0, np.nan)"
      ],
      "metadata": {
        "id": "V2I8N2eR60Wz"
      },
      "execution_count": 8,
      "outputs": []
    },
    {
      "cell_type": "markdown",
      "source": [
        "# **Tratando valores ausentes**"
      ],
      "metadata": {
        "id": "l07U7T570ak-"
      }
    },
    {
      "cell_type": "code",
      "source": [
        "# Uso de Gaussiana para a Coluna IDADE. As colunas \"REF_DATE\" e \"TARGET\" não possuem valores ausentes.\n",
        "# As colunas \"Sexo\" \"VAR5: Unidade Federativa (UF)\" apesar de possuirem valores ausentes, possuem dados categóricos, logo, a Gaussiana n é aplicável.\n",
        "# As colunas \"VAR4(Flag de óbito)\" e \"VAR8 (Classe social)\" possuem uma alta proporção de valores ausentes. Gaussiana não é aplicável.\n",
        "# Sugere-se tratar como uma categoria separada (ex.: \"Desconhecido\").\n",
        "\n",
        "# Imputação da coluna IDADE com distribuição gaussiana\n",
        "mean = base['IDADE'].mean()\n",
        "std = base['IDADE'].std()\n",
        "missing_count = base['IDADE'].isna().sum()\n",
        "imputed_values = np.random.normal(loc=mean, scale=std, size=missing_count)\n",
        "base.loc[base['IDADE'].isna(), 'IDADE'] = imputed_values\n",
        "\n",
        "# Imputação para colunas categóricas com moda\n",
        "categorical_columns_mode = ['VAR2', 'VAR5']\n",
        "imputer_mode = SimpleImputer(strategy='most_frequent')\n",
        "base[categorical_columns_mode] = imputer_mode.fit_transform(base[categorical_columns_mode])"
      ],
      "metadata": {
        "id": "tFYww1GzRzDY",
        "collapsed": true
      },
      "execution_count": 9,
      "outputs": []
    },
    {
      "cell_type": "code",
      "source": [
        "# Função para imputação com regressão\n",
        "def impute_with_regression(target_col, predictor_cols, dataset):\n",
        "    # Separar dados completos e incompletos\n",
        "    complete_data = base[base[target_col].notna()]\n",
        "    incomplete_data = base[base[target_col].isna()]\n",
        "\n",
        "    # Garantir que há dados suficientes para regressão\n",
        "    if complete_data.shape[0] < 10 or incomplete_data.shape[0] == 0:\n",
        "        return base\n",
        "\n",
        "    # Definir modelo de regressão\n",
        "    model = LinearRegression()\n",
        "\n",
        "    # Treinar o modelo\n",
        "    X_train = complete_data[predictor_cols]\n",
        "    y_train = complete_data[target_col]\n",
        "    model.fit(X_train, y_train)\n",
        "\n",
        "    # Prever valores ausentes\n",
        "    X_missing = incomplete_data[predictor_cols]\n",
        "    predictions = model.predict(X_missing)\n",
        "\n",
        "    # Imputar os valores ausentes no dataset\n",
        "    base.loc[base[target_col].isna(), target_col] = predictions\n",
        "\n",
        "    return base"
      ],
      "metadata": {
        "id": "MN82jmsg8Cm9"
      },
      "execution_count": 10,
      "outputs": []
    },
    {
      "cell_type": "code",
      "source": [
        "# Imputação para VAR4 (Flag de óbito) usando regressão\n",
        "predictor_columns_var4 = ['IDADE', 'TARGET']  # Ajuste preditores conforme necessário\n",
        "base = impute_with_regression('VAR4', predictor_columns_var4, base)\n",
        "\n",
        "# Imputação para VAR8 (Classe social) usando regressão\n",
        "predictor_columns_var8 = ['IDADE', 'TARGET']  # Ajuste preditores conforme necessário\n",
        "base = impute_with_regression('VAR8', predictor_columns_var8, base)\n",
        "\n",
        "# Verificar valores ausentes após a imputação\n",
        "missing_after_imputation = base.isna().sum()\n",
        "print(\"Valores ausentes após a imputação:\")\n",
        "print(missing_after_imputation)"
      ],
      "metadata": {
        "colab": {
          "base_uri": "https://localhost:8080/"
        },
        "id": "KqFuYPUS8Gb9",
        "outputId": "7d12919b-3512-4cf3-9f49-803900071a7c"
      },
      "execution_count": 12,
      "outputs": [
        {
          "output_type": "stream",
          "name": "stdout",
          "text": [
            "Valores ausentes após a imputação:\n",
            "REF_DATE    0\n",
            "TARGET      0\n",
            "VAR2        0\n",
            "IDADE       0\n",
            "VAR4        0\n",
            "VAR5        0\n",
            "VAR8        0\n",
            "dtype: int64\n"
          ]
        }
      ]
    },
    {
      "cell_type": "code",
      "source": [
        "# Salvar o dataset processado\n",
        "base.to_csv('/content/drive/MyDrive/Andre/ADA/dataset_imputado.csv', index=False)\n",
        "print(\"Dataset salvo como 'dataset_imputado.csv'\")"
      ],
      "metadata": {
        "colab": {
          "base_uri": "https://localhost:8080/"
        },
        "id": "6oVyDfH48QHP",
        "outputId": "d08a45a3-f3d6-48df-ca51-0acd95011902"
      },
      "execution_count": 15,
      "outputs": [
        {
          "output_type": "stream",
          "name": "stdout",
          "text": [
            "Dataset salvo como 'dataset_imputado.csv'\n"
          ]
        }
      ]
    }
  ]
}