{
  "nbformat": 4,
  "nbformat_minor": 0,
  "metadata": {
    "colab": {
      "provenance": []
    },
    "kernelspec": {
      "name": "python3",
      "display_name": "Python 3"
    },
    "language_info": {
      "name": "python"
    }
  },
  "cells": [
    {
      "cell_type": "markdown",
      "source": [
        "### Instalando o boto3"
      ],
      "metadata": {
        "id": "P6KsFpeNwgSm"
      }
    },
    {
      "cell_type": "code",
      "execution_count": null,
      "metadata": {
        "id": "bheMog3-wEgs",
        "collapsed": true
      },
      "outputs": [],
      "source": [
        "pip install boto3 psycopg2 pandas\n"
      ]
    },
    {
      "cell_type": "code",
      "source": [
        "from google.colab import drive\n",
        "drive.mount('/content/drive')"
      ],
      "metadata": {
        "colab": {
          "base_uri": "https://localhost:8080/"
        },
        "id": "CFPCzPcDjSJX",
        "outputId": "32ed236f-16e6-450e-a128-125d364f6f90"
      },
      "execution_count": 6,
      "outputs": [
        {
          "output_type": "stream",
          "name": "stdout",
          "text": [
            "Mounted at /content/drive\n"
          ]
        }
      ]
    },
    {
      "cell_type": "markdown",
      "source": [
        "### Importando o DataSet"
      ],
      "metadata": {
        "id": "US-9TI0kMvGx"
      }
    },
    {
      "cell_type": "code",
      "source": [
        "import pandas as pd\n",
        "\n",
        "# Carregue o arquivo .csv\n",
        "base = pd.read_csv(\"/content/drive/MyDrive/Andre/ADA/dataset_imputado.csv\", sep = \",\")\n",
        "base.head()"
      ],
      "metadata": {
        "colab": {
          "base_uri": "https://localhost:8080/",
          "height": 206
        },
        "id": "vqk2vHKSMyAQ",
        "outputId": "fa6ea57b-d2fd-4813-b183-a9b3193b6b5e"
      },
      "execution_count": 12,
      "outputs": [
        {
          "output_type": "execute_result",
          "data": {
            "text/plain": [
              "                    REF_DATE  TARGET VAR2   IDADE  VAR4 VAR5      VAR8\n",
              "0  01/06/2017;00:00:00+00:00       0    M  34.137   1.0   RO  4.000000\n",
              "1  18/08/2017;00:00:00+00:00       0    M  40.447   1.0   PB  5.000000\n",
              "2  30/06/2017;00:00:00+00:00       0    F  33.515   1.0   RS  4.818291\n",
              "3  05/08/2017;00:00:00+00:00       1    F  25.797   1.0   BA  5.000000\n",
              "4  29/07/2017;00:00:00+00:00       0    F  54.074   1.0   RS  2.000000"
            ],
            "text/html": [
              "\n",
              "  <div id=\"df-3e175fce-aef1-4f13-8fd1-a7bdf46d173b\" class=\"colab-df-container\">\n",
              "    <div>\n",
              "<style scoped>\n",
              "    .dataframe tbody tr th:only-of-type {\n",
              "        vertical-align: middle;\n",
              "    }\n",
              "\n",
              "    .dataframe tbody tr th {\n",
              "        vertical-align: top;\n",
              "    }\n",
              "\n",
              "    .dataframe thead th {\n",
              "        text-align: right;\n",
              "    }\n",
              "</style>\n",
              "<table border=\"1\" class=\"dataframe\">\n",
              "  <thead>\n",
              "    <tr style=\"text-align: right;\">\n",
              "      <th></th>\n",
              "      <th>REF_DATE</th>\n",
              "      <th>TARGET</th>\n",
              "      <th>VAR2</th>\n",
              "      <th>IDADE</th>\n",
              "      <th>VAR4</th>\n",
              "      <th>VAR5</th>\n",
              "      <th>VAR8</th>\n",
              "    </tr>\n",
              "  </thead>\n",
              "  <tbody>\n",
              "    <tr>\n",
              "      <th>0</th>\n",
              "      <td>01/06/2017;00:00:00+00:00</td>\n",
              "      <td>0</td>\n",
              "      <td>M</td>\n",
              "      <td>34.137</td>\n",
              "      <td>1.0</td>\n",
              "      <td>RO</td>\n",
              "      <td>4.000000</td>\n",
              "    </tr>\n",
              "    <tr>\n",
              "      <th>1</th>\n",
              "      <td>18/08/2017;00:00:00+00:00</td>\n",
              "      <td>0</td>\n",
              "      <td>M</td>\n",
              "      <td>40.447</td>\n",
              "      <td>1.0</td>\n",
              "      <td>PB</td>\n",
              "      <td>5.000000</td>\n",
              "    </tr>\n",
              "    <tr>\n",
              "      <th>2</th>\n",
              "      <td>30/06/2017;00:00:00+00:00</td>\n",
              "      <td>0</td>\n",
              "      <td>F</td>\n",
              "      <td>33.515</td>\n",
              "      <td>1.0</td>\n",
              "      <td>RS</td>\n",
              "      <td>4.818291</td>\n",
              "    </tr>\n",
              "    <tr>\n",
              "      <th>3</th>\n",
              "      <td>05/08/2017;00:00:00+00:00</td>\n",
              "      <td>1</td>\n",
              "      <td>F</td>\n",
              "      <td>25.797</td>\n",
              "      <td>1.0</td>\n",
              "      <td>BA</td>\n",
              "      <td>5.000000</td>\n",
              "    </tr>\n",
              "    <tr>\n",
              "      <th>4</th>\n",
              "      <td>29/07/2017;00:00:00+00:00</td>\n",
              "      <td>0</td>\n",
              "      <td>F</td>\n",
              "      <td>54.074</td>\n",
              "      <td>1.0</td>\n",
              "      <td>RS</td>\n",
              "      <td>2.000000</td>\n",
              "    </tr>\n",
              "  </tbody>\n",
              "</table>\n",
              "</div>\n",
              "    <div class=\"colab-df-buttons\">\n",
              "\n",
              "  <div class=\"colab-df-container\">\n",
              "    <button class=\"colab-df-convert\" onclick=\"convertToInteractive('df-3e175fce-aef1-4f13-8fd1-a7bdf46d173b')\"\n",
              "            title=\"Convert this dataframe to an interactive table.\"\n",
              "            style=\"display:none;\">\n",
              "\n",
              "  <svg xmlns=\"http://www.w3.org/2000/svg\" height=\"24px\" viewBox=\"0 -960 960 960\">\n",
              "    <path d=\"M120-120v-720h720v720H120Zm60-500h600v-160H180v160Zm220 220h160v-160H400v160Zm0 220h160v-160H400v160ZM180-400h160v-160H180v160Zm440 0h160v-160H620v160ZM180-180h160v-160H180v160Zm440 0h160v-160H620v160Z\"/>\n",
              "  </svg>\n",
              "    </button>\n",
              "\n",
              "  <style>\n",
              "    .colab-df-container {\n",
              "      display:flex;\n",
              "      gap: 12px;\n",
              "    }\n",
              "\n",
              "    .colab-df-convert {\n",
              "      background-color: #E8F0FE;\n",
              "      border: none;\n",
              "      border-radius: 50%;\n",
              "      cursor: pointer;\n",
              "      display: none;\n",
              "      fill: #1967D2;\n",
              "      height: 32px;\n",
              "      padding: 0 0 0 0;\n",
              "      width: 32px;\n",
              "    }\n",
              "\n",
              "    .colab-df-convert:hover {\n",
              "      background-color: #E2EBFA;\n",
              "      box-shadow: 0px 1px 2px rgba(60, 64, 67, 0.3), 0px 1px 3px 1px rgba(60, 64, 67, 0.15);\n",
              "      fill: #174EA6;\n",
              "    }\n",
              "\n",
              "    .colab-df-buttons div {\n",
              "      margin-bottom: 4px;\n",
              "    }\n",
              "\n",
              "    [theme=dark] .colab-df-convert {\n",
              "      background-color: #3B4455;\n",
              "      fill: #D2E3FC;\n",
              "    }\n",
              "\n",
              "    [theme=dark] .colab-df-convert:hover {\n",
              "      background-color: #434B5C;\n",
              "      box-shadow: 0px 1px 3px 1px rgba(0, 0, 0, 0.15);\n",
              "      filter: drop-shadow(0px 1px 2px rgba(0, 0, 0, 0.3));\n",
              "      fill: #FFFFFF;\n",
              "    }\n",
              "  </style>\n",
              "\n",
              "    <script>\n",
              "      const buttonEl =\n",
              "        document.querySelector('#df-3e175fce-aef1-4f13-8fd1-a7bdf46d173b button.colab-df-convert');\n",
              "      buttonEl.style.display =\n",
              "        google.colab.kernel.accessAllowed ? 'block' : 'none';\n",
              "\n",
              "      async function convertToInteractive(key) {\n",
              "        const element = document.querySelector('#df-3e175fce-aef1-4f13-8fd1-a7bdf46d173b');\n",
              "        const dataTable =\n",
              "          await google.colab.kernel.invokeFunction('convertToInteractive',\n",
              "                                                    [key], {});\n",
              "        if (!dataTable) return;\n",
              "\n",
              "        const docLinkHtml = 'Like what you see? Visit the ' +\n",
              "          '<a target=\"_blank\" href=https://colab.research.google.com/notebooks/data_table.ipynb>data table notebook</a>'\n",
              "          + ' to learn more about interactive tables.';\n",
              "        element.innerHTML = '';\n",
              "        dataTable['output_type'] = 'display_data';\n",
              "        await google.colab.output.renderOutput(dataTable, element);\n",
              "        const docLink = document.createElement('div');\n",
              "        docLink.innerHTML = docLinkHtml;\n",
              "        element.appendChild(docLink);\n",
              "      }\n",
              "    </script>\n",
              "  </div>\n",
              "\n",
              "\n",
              "<div id=\"df-b0cecdd2-1e98-4cfd-a101-9cd7f8287793\">\n",
              "  <button class=\"colab-df-quickchart\" onclick=\"quickchart('df-b0cecdd2-1e98-4cfd-a101-9cd7f8287793')\"\n",
              "            title=\"Suggest charts\"\n",
              "            style=\"display:none;\">\n",
              "\n",
              "<svg xmlns=\"http://www.w3.org/2000/svg\" height=\"24px\"viewBox=\"0 0 24 24\"\n",
              "     width=\"24px\">\n",
              "    <g>\n",
              "        <path d=\"M19 3H5c-1.1 0-2 .9-2 2v14c0 1.1.9 2 2 2h14c1.1 0 2-.9 2-2V5c0-1.1-.9-2-2-2zM9 17H7v-7h2v7zm4 0h-2V7h2v10zm4 0h-2v-4h2v4z\"/>\n",
              "    </g>\n",
              "</svg>\n",
              "  </button>\n",
              "\n",
              "<style>\n",
              "  .colab-df-quickchart {\n",
              "      --bg-color: #E8F0FE;\n",
              "      --fill-color: #1967D2;\n",
              "      --hover-bg-color: #E2EBFA;\n",
              "      --hover-fill-color: #174EA6;\n",
              "      --disabled-fill-color: #AAA;\n",
              "      --disabled-bg-color: #DDD;\n",
              "  }\n",
              "\n",
              "  [theme=dark] .colab-df-quickchart {\n",
              "      --bg-color: #3B4455;\n",
              "      --fill-color: #D2E3FC;\n",
              "      --hover-bg-color: #434B5C;\n",
              "      --hover-fill-color: #FFFFFF;\n",
              "      --disabled-bg-color: #3B4455;\n",
              "      --disabled-fill-color: #666;\n",
              "  }\n",
              "\n",
              "  .colab-df-quickchart {\n",
              "    background-color: var(--bg-color);\n",
              "    border: none;\n",
              "    border-radius: 50%;\n",
              "    cursor: pointer;\n",
              "    display: none;\n",
              "    fill: var(--fill-color);\n",
              "    height: 32px;\n",
              "    padding: 0;\n",
              "    width: 32px;\n",
              "  }\n",
              "\n",
              "  .colab-df-quickchart:hover {\n",
              "    background-color: var(--hover-bg-color);\n",
              "    box-shadow: 0 1px 2px rgba(60, 64, 67, 0.3), 0 1px 3px 1px rgba(60, 64, 67, 0.15);\n",
              "    fill: var(--button-hover-fill-color);\n",
              "  }\n",
              "\n",
              "  .colab-df-quickchart-complete:disabled,\n",
              "  .colab-df-quickchart-complete:disabled:hover {\n",
              "    background-color: var(--disabled-bg-color);\n",
              "    fill: var(--disabled-fill-color);\n",
              "    box-shadow: none;\n",
              "  }\n",
              "\n",
              "  .colab-df-spinner {\n",
              "    border: 2px solid var(--fill-color);\n",
              "    border-color: transparent;\n",
              "    border-bottom-color: var(--fill-color);\n",
              "    animation:\n",
              "      spin 1s steps(1) infinite;\n",
              "  }\n",
              "\n",
              "  @keyframes spin {\n",
              "    0% {\n",
              "      border-color: transparent;\n",
              "      border-bottom-color: var(--fill-color);\n",
              "      border-left-color: var(--fill-color);\n",
              "    }\n",
              "    20% {\n",
              "      border-color: transparent;\n",
              "      border-left-color: var(--fill-color);\n",
              "      border-top-color: var(--fill-color);\n",
              "    }\n",
              "    30% {\n",
              "      border-color: transparent;\n",
              "      border-left-color: var(--fill-color);\n",
              "      border-top-color: var(--fill-color);\n",
              "      border-right-color: var(--fill-color);\n",
              "    }\n",
              "    40% {\n",
              "      border-color: transparent;\n",
              "      border-right-color: var(--fill-color);\n",
              "      border-top-color: var(--fill-color);\n",
              "    }\n",
              "    60% {\n",
              "      border-color: transparent;\n",
              "      border-right-color: var(--fill-color);\n",
              "    }\n",
              "    80% {\n",
              "      border-color: transparent;\n",
              "      border-right-color: var(--fill-color);\n",
              "      border-bottom-color: var(--fill-color);\n",
              "    }\n",
              "    90% {\n",
              "      border-color: transparent;\n",
              "      border-bottom-color: var(--fill-color);\n",
              "    }\n",
              "  }\n",
              "</style>\n",
              "\n",
              "  <script>\n",
              "    async function quickchart(key) {\n",
              "      const quickchartButtonEl =\n",
              "        document.querySelector('#' + key + ' button');\n",
              "      quickchartButtonEl.disabled = true;  // To prevent multiple clicks.\n",
              "      quickchartButtonEl.classList.add('colab-df-spinner');\n",
              "      try {\n",
              "        const charts = await google.colab.kernel.invokeFunction(\n",
              "            'suggestCharts', [key], {});\n",
              "      } catch (error) {\n",
              "        console.error('Error during call to suggestCharts:', error);\n",
              "      }\n",
              "      quickchartButtonEl.classList.remove('colab-df-spinner');\n",
              "      quickchartButtonEl.classList.add('colab-df-quickchart-complete');\n",
              "    }\n",
              "    (() => {\n",
              "      let quickchartButtonEl =\n",
              "        document.querySelector('#df-b0cecdd2-1e98-4cfd-a101-9cd7f8287793 button');\n",
              "      quickchartButtonEl.style.display =\n",
              "        google.colab.kernel.accessAllowed ? 'block' : 'none';\n",
              "    })();\n",
              "  </script>\n",
              "</div>\n",
              "\n",
              "    </div>\n",
              "  </div>\n"
            ],
            "application/vnd.google.colaboratory.intrinsic+json": {
              "type": "dataframe",
              "variable_name": "base"
            }
          },
          "metadata": {},
          "execution_count": 12
        }
      ]
    },
    {
      "cell_type": "code",
      "source": [
        "import pandas as pd\n",
        "from datetime import datetime\n",
        "\n",
        "# Convertendo a coluna para o formato YYYY-MM-DD\n",
        "base['REF_DATE'] = pd.to_datetime(base['REF_DATE'], format=\"%d/%m/%Y\").dt.strftime(\"%Y-%m-%d\")\n",
        "\n",
        "base['REF_DATE']"
      ],
      "metadata": {
        "id": "DM23LlfcN30j"
      },
      "execution_count": null,
      "outputs": []
    },
    {
      "cell_type": "markdown",
      "source": [
        "### Conexão com o Banco de Dados"
      ],
      "metadata": {
        "id": "kLX6m73QI0ue"
      }
    },
    {
      "cell_type": "code",
      "source": [
        "import boto3\n",
        "import psycopg2\n",
        "from psycopg2 import sql\n",
        "import pandas as pd"
      ],
      "metadata": {
        "id": "6oi57nsEI2lV"
      },
      "execution_count": 7,
      "outputs": []
    },
    {
      "cell_type": "code",
      "source": [
        "# Configurações do Banco de Dados RDS\n",
        "db_config = {\n",
        "    \"host\": \"chatbotdb.cz0yqgoeikkw.us-east-2.rds.amazonaws.com\",\n",
        "    \"database\": \"postgres\",\n",
        "    \"user\": \"postgres\",\n",
        "    \"password\": \"Erdnal31#\",\n",
        "    \"port\": 5432\n",
        "}"
      ],
      "metadata": {
        "id": "S-Gar0MtJGEY"
      },
      "execution_count": 8,
      "outputs": []
    },
    {
      "cell_type": "code",
      "source": [
        "# Conexão com o RDS PostgreSQL\n",
        "def connect_rds():\n",
        "    try:\n",
        "        conn = psycopg2.connect(\n",
        "            host=db_config[\"host\"],\n",
        "            database=db_config[\"database\"],\n",
        "            user=db_config[\"user\"],\n",
        "            password=db_config[\"password\"],\n",
        "            port=db_config[\"port\"]\n",
        "        )\n",
        "        print(\"Conexão bem-sucedida ao RDS!\")\n",
        "        return conn\n",
        "    except Exception as e:\n",
        "        print(\"Erro ao conectar ao banco de dados:\", e)\n",
        "        return None"
      ],
      "metadata": {
        "id": "Tg3FzkrgJew5"
      },
      "execution_count": 9,
      "outputs": []
    },
    {
      "cell_type": "code",
      "source": [
        "# Função para criar a tabela\n",
        "def create_table(conn):\n",
        "    query = \"\"\"\n",
        "    CREATE TABLE IF NOT EXISTS chatbot_data2 (\n",
        "        ID SERIAL PRIMARY KEY,\n",
        "        REF_DATE TIMESTAMP,\n",
        "        TARGET INT,\n",
        "        VAR2 VARCHAR(1),\n",
        "        IDADE FLOAT,\n",
        "        VAR4 FLOAT,\n",
        "        VAR5 CHAR(2),\n",
        "        VAR8 FLOAT\n",
        "    );\n",
        "    \"\"\"\n",
        "    try:\n",
        "        with conn.cursor() as cursor:\n",
        "            cursor.execute(query)\n",
        "            conn.commit()\n",
        "            print(\"Tabela criada com sucesso!\")\n",
        "    except Exception as e:\n",
        "        print(\"Erro ao criar tabela:\", e)\n",
        "\n",
        "# Conectar e criar a tabela\n",
        "conn = connect_rds()\n",
        "if conn:\n",
        "    create_table(conn)\n",
        "    conn.close()"
      ],
      "metadata": {
        "colab": {
          "base_uri": "https://localhost:8080/"
        },
        "id": "3QB6G69kJg2-",
        "outputId": "413ee732-86d8-422f-9af0-2a0bee68446f"
      },
      "execution_count": 14,
      "outputs": [
        {
          "output_type": "stream",
          "name": "stdout",
          "text": [
            "Conexão bem-sucedida ao RDS!\n",
            "Tabela criada com sucesso!\n"
          ]
        }
      ]
    },
    {
      "cell_type": "markdown",
      "source": [
        "### Carregar os Dados para o Banco"
      ],
      "metadata": {
        "id": "8UARUEQMMRUT"
      }
    },
    {
      "cell_type": "code",
      "source": [
        "# Função para carregar dados para o RDS\n",
        "def load_data_to_rds(conn, df):\n",
        "    try:\n",
        "        with conn.cursor() as cursor:\n",
        "            for _, row in df.iterrows():\n",
        "                cursor.execute(\n",
        "                    \"\"\"\n",
        "                    INSERT INTO chatbot_data2 (REF_DATE, TARGET, VAR2, IDADE, VAR4, VAR5, VAR8)\n",
        "                    VALUES (%s, %s, %s, %s, %s, %s, %s)\n",
        "                    \"\"\",\n",
        "                    (row['REF_DATE'], row['TARGET'], row['VAR2'], row['IDADE'],\n",
        "                     row['VAR4'], row['VAR5'], row['VAR8'])\n",
        "                )\n",
        "            conn.commit()\n",
        "            print(\"Dados carregados com sucesso!\")\n",
        "    except Exception as e:\n",
        "        print(\"Erro ao carregar dados:\", e)\n",
        "\n",
        "# Carregar apenas as colunas relevantes do CSV\n",
        "#relevant_columns = ['REF_DATE', 'TARGET', 'VAR2', 'IDADE', 'VAR4', 'VAR5', 'VAR8']\n",
        "#df_relevant = base[relevant_columns]\n",
        "\n",
        "# Conectar e carregar os dados\n",
        "conn = connect_rds()\n",
        "if conn:\n",
        "    load_data_to_rds(conn, base)\n",
        "    conn.close()"
      ],
      "metadata": {
        "colab": {
          "base_uri": "https://localhost:8080/"
        },
        "id": "Kc-z1XMJMURp",
        "outputId": "fa1b1c7d-9ac9-4423-9f0a-36b28d94f8db"
      },
      "execution_count": 27,
      "outputs": [
        {
          "output_type": "stream",
          "name": "stdout",
          "text": [
            "Conexão bem-sucedida ao RDS!\n",
            "Dados carregados com sucesso!\n"
          ]
        }
      ]
    },
    {
      "cell_type": "markdown",
      "source": [
        "### Testando a Conexão e Consultas"
      ],
      "metadata": {
        "id": "umLAZI-2Pa2M"
      }
    },
    {
      "cell_type": "code",
      "source": [
        "def test_query(conn):\n",
        "    query = \"SELECT VAR5, AVG(IDADE) AS avg_age FROM chatbot_data2 GROUP BY VAR5;\"\n",
        "    with conn.cursor() as cursor:\n",
        "        cursor.execute(query)\n",
        "        results = cursor.fetchall()\n",
        "        for row in results:\n",
        "            print(row)\n",
        "\n",
        "conn = connect_rds()\n",
        "if conn:\n",
        "    test_query(conn)\n",
        "    conn.close()"
      ],
      "metadata": {
        "colab": {
          "base_uri": "https://localhost:8080/"
        },
        "id": "IIIdbrwgPfVS",
        "outputId": "f5c524ba-80db-40be-d9ae-64990d567a3a"
      },
      "execution_count": 10,
      "outputs": [
        {
          "output_type": "stream",
          "name": "stdout",
          "text": [
            "Conexão bem-sucedida ao RDS!\n",
            "('SC', 41.18209613536117)\n",
            "('RS', 44.34650745117054)\n",
            "('DF', 42.551331299481916)\n",
            "('MG', 42.12051825411429)\n",
            "('RN', 41.03911226606281)\n",
            "('SP', 42.323646982033864)\n",
            "('GO', 41.75788332164354)\n",
            "('AM', 40.59831755910675)\n",
            "('PA', 42.98737704187461)\n",
            "('PE', 40.92114127753574)\n",
            "('PB', 41.25712258139395)\n",
            "('AP', 38.92478646667804)\n",
            "('ES', 42.34845747227685)\n",
            "('TO', 41.53383922020455)\n",
            "('MT', 40.28971144866033)\n",
            "('RR', 39.97231645909703)\n",
            "('PI', 39.717355057664975)\n",
            "('PR', 41.86102364265529)\n",
            "('CE', 41.80285409615007)\n",
            "('BA', 42.940575343417606)\n",
            "('AC', 40.10722395381253)\n",
            "('RJ', 45.52719208760764)\n",
            "('MA', 41.600078661827034)\n",
            "('AL', 41.475235134733005)\n",
            "('RO', 40.44026025542849)\n",
            "('SE', 41.222062220202154)\n",
            "('MS', 41.550735829700315)\n"
          ]
        }
      ]
    }
  ]
}